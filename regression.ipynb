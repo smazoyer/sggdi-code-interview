{
 "cells": [
  {
   "cell_type": "markdown",
   "metadata": {},
   "source": [
    "**Data Reading**"
   ]
  },
  {
   "cell_type": "code",
   "execution_count": null,
   "metadata": {},
   "outputs": [],
   "source": [
    "import pandas as pd\n",
    "\n",
    "df = pd.read_csv(\"https://raw.githubusercontent.com/smazoyer/sggdi-code-interview/main/data.csv\", encoding=\"utf-8\")\n",
    "df.sample(5)"
   ]
  },
  {
   "cell_type": "markdown",
   "metadata": {},
   "source": [
    "**Data Cleaning**"
   ]
  },
  {
   "cell_type": "code",
   "execution_count": null,
   "metadata": {},
   "outputs": [],
   "source": [
    "## TO DO:\n",
    "## Time_taken(min) col values have this format \"(min) 34\", \"(min 29)\"\n",
    "## You need to remove the \"(min)\" and convert the values to int\n",
    "## Rename the column to \"delivery_time_taken\" {\"Time_taken(min)\" : \"delivery_time_taken\"}\n",
    "## ADD CODE HERE"
   ]
  },
  {
   "cell_type": "code",
   "execution_count": null,
   "metadata": {},
   "outputs": [],
   "source": [
    "## TO DO:\n",
    "## Check for missing values in the dataset\n",
    "## ADD CODE HERE"
   ]
  },
  {
   "cell_type": "markdown",
   "metadata": {},
   "source": [
    "**Feature Generation**"
   ]
  },
  {
   "cell_type": "markdown",
   "metadata": {},
   "source": [
    "- What feature engenering we can do on the df columns to add new features useful for the Regressor training?\n",
    "- Do we need to keep all the columns in the dataframe, or we can drop some?"
   ]
  },
  {
   "cell_type": "code",
   "execution_count": null,
   "metadata": {},
   "outputs": [],
   "source": [
    "## TO DO:\n",
    "def calculate_dist(la1: float, lo1: float, la2: float, lo2: float) -> float:\n",
    "    \"\"\"\n",
    "    Calculate the distance in KM between two points on the earth given the latitude and longitude of the two points\n",
    "    \"\"\"\n",
    "    ## ADD CODE HERE\n",
    "    distance = ...\n",
    "    return distance"
   ]
  },
  {
   "cell_type": "code",
   "execution_count": null,
   "metadata": {},
   "outputs": [],
   "source": [
    "## TO DO:\n",
    "## Add new column \"distance\" to the dataframe a KMs distance between the restaurant and the delivery point\n",
    "## Delete te coordinates columns after adding the distance column\n",
    "## ADD CODE HERE"
   ]
  },
  {
   "cell_type": "code",
   "execution_count": null,
   "metadata": {},
   "outputs": [],
   "source": [
    "## TO DO:\n",
    "## Add a new column \"is_weekend\" to the dataset which will have a value of 1 if Order_Date was placed on a weekend and 0 otherwise\n",
    "## Add also a new column \"is_night_delivery\" that indicates whether the delivery was made at night or not, use Time_Order_picked to determine this\n",
    "## ADD CODE HERE"
   ]
  },
  {
   "cell_type": "code",
   "execution_count": null,
   "metadata": {},
   "outputs": [],
   "source": [
    "## TO DO:\n",
    "## Cast all categorical columns to type \"category\"\n",
    "## ADD CODE HERE"
   ]
  },
  {
   "cell_type": "code",
   "execution_count": null,
   "metadata": {},
   "outputs": [],
   "source": [
    "## TO DO:\n",
    "## Sort the dataset by Order_Date in ascending order\n",
    "## ADD CODE HERE"
   ]
  },
  {
   "cell_type": "code",
   "execution_count": null,
   "metadata": {},
   "outputs": [],
   "source": [
    "## TO DO:\n",
    "## Delete columns you don't want to use in the model training\n",
    "## ADD CODE HERE"
   ]
  },
  {
   "cell_type": "markdown",
   "metadata": {},
   "source": [
    "**Model Training**"
   ]
  },
  {
   "cell_type": "code",
   "execution_count": null,
   "metadata": {},
   "outputs": [],
   "source": [
    "## TO DO:\n",
    "## Split dataset into 80% training and 10% validation and 10% testing\n",
    "## df_train, df_val, df_test = ...\n",
    "## ADD CODE HERE"
   ]
  },
  {
   "cell_type": "code",
   "execution_count": null,
   "metadata": {},
   "outputs": [],
   "source": [
    "## TO DO:\n",
    "## Train a ML Regression model to predict the delivery_time_taken column\n",
    "## For the validation metric, which one would you use knowing that we want to penelize outliers?\n",
    "## You need to use df_val to find the best hyperparameters for your model\n",
    "## ADD CODE HERE\n",
    "## regressor = ..."
   ]
  },
  {
   "cell_type": "markdown",
   "metadata": {},
   "source": [
    "**Model Evaluation**"
   ]
  },
  {
   "cell_type": "code",
   "execution_count": null,
   "metadata": {},
   "outputs": [],
   "source": [
    "## TO DO:\n",
    "## Evaluate the model on the training, validation and test set using the mean absolute error, and analyze the results\n",
    "## ADD CODE HERE"
   ]
  },
  {
   "cell_type": "code",
   "execution_count": null,
   "metadata": {},
   "outputs": [],
   "source": [
    "## TO DO:\n",
    "## Generate some plots to visualize the model performance and Feature importance\n",
    "## ADD CODE HERE"
   ]
  },
  {
   "cell_type": "code",
   "execution_count": null,
   "metadata": {},
   "outputs": [],
   "source": []
  }
 ],
 "metadata": {
  "kernelspec": {
   "display_name": "coding-test",
   "language": "python",
   "name": "python3"
  },
  "language_info": {
   "codemirror_mode": {
    "name": "ipython",
    "version": 3
   },
   "file_extension": ".py",
   "mimetype": "text/x-python",
   "name": "python",
   "nbconvert_exporter": "python",
   "pygments_lexer": "ipython3",
   "version": "3.8.19"
  }
 },
 "nbformat": 4,
 "nbformat_minor": 2
}
